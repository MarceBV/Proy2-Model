{
 "cells": [
  {
   "cell_type": "code",
   "execution_count": 3,
   "metadata": {},
   "outputs": [],
   "source": [
    "import pandas as pd\n",
    "import numpy as np\n",
    "import matplotlib.pyplot as plt\n",
    "import seaborn as sns\n",
    "from sklearn.model_selection import train_test_split\n",
    "from sklearn.preprocessing import StandardScaler\n",
    "from sklearn.metrics import classification_report, confusion_matrix, roc_auc_score, roc_curve\n",
    "from sklearn.tree import DecisionTreeClassifier\n",
    "from sklearn.ensemble import RandomForestClassifier, GradientBoostingClassifier\n",
    "from sklearn.naive_bayes import GaussianNB\n",
    "from sklearn.neural_network import MLPClassifier"
   ]
  },
  {
   "cell_type": "markdown",
   "metadata": {},
   "source": [
    "#### 1. Cargamos los datos del set de entrenamiento"
   ]
  },
  {
   "cell_type": "code",
   "execution_count": 6,
   "metadata": {},
   "outputs": [
    {
     "data": {
      "text/html": [
       "<div>\n",
       "<style scoped>\n",
       "    .dataframe tbody tr th:only-of-type {\n",
       "        vertical-align: middle;\n",
       "    }\n",
       "\n",
       "    .dataframe tbody tr th {\n",
       "        vertical-align: top;\n",
       "    }\n",
       "\n",
       "    .dataframe thead th {\n",
       "        text-align: right;\n",
       "    }\n",
       "</style>\n",
       "<table border=\"1\" class=\"dataframe\">\n",
       "  <thead>\n",
       "    <tr style=\"text-align: right;\">\n",
       "      <th></th>\n",
       "      <th>Date</th>\n",
       "      <th>Open</th>\n",
       "      <th>High</th>\n",
       "      <th>Low</th>\n",
       "      <th>Close</th>\n",
       "      <th>Volume</th>\n",
       "      <th>Dividends</th>\n",
       "      <th>Stock Splits</th>\n",
       "      <th>Capital Gains</th>\n",
       "    </tr>\n",
       "  </thead>\n",
       "  <tbody>\n",
       "    <tr>\n",
       "      <th>0</th>\n",
       "      <td>2019-11-11 00:00:00-05:00</td>\n",
       "      <td>137.610001</td>\n",
       "      <td>137.789993</td>\n",
       "      <td>136.440002</td>\n",
       "      <td>137.059998</td>\n",
       "      <td>7037300</td>\n",
       "      <td>0.0</td>\n",
       "      <td>0.0</td>\n",
       "      <td>0.0</td>\n",
       "    </tr>\n",
       "    <tr>\n",
       "      <th>1</th>\n",
       "      <td>2019-11-12 00:00:00-05:00</td>\n",
       "      <td>137.029999</td>\n",
       "      <td>137.589996</td>\n",
       "      <td>136.190002</td>\n",
       "      <td>137.429993</td>\n",
       "      <td>6448600</td>\n",
       "      <td>0.0</td>\n",
       "      <td>0.0</td>\n",
       "      <td>0.0</td>\n",
       "    </tr>\n",
       "    <tr>\n",
       "      <th>2</th>\n",
       "      <td>2019-11-13 00:00:00-05:00</td>\n",
       "      <td>137.800003</td>\n",
       "      <td>138.220001</td>\n",
       "      <td>137.639999</td>\n",
       "      <td>137.979996</td>\n",
       "      <td>8776000</td>\n",
       "      <td>0.0</td>\n",
       "      <td>0.0</td>\n",
       "      <td>0.0</td>\n",
       "    </tr>\n",
       "    <tr>\n",
       "      <th>3</th>\n",
       "      <td>2019-11-14 00:00:00-05:00</td>\n",
       "      <td>138.389999</td>\n",
       "      <td>138.940002</td>\n",
       "      <td>137.869995</td>\n",
       "      <td>138.559998</td>\n",
       "      <td>5220500</td>\n",
       "      <td>0.0</td>\n",
       "      <td>0.0</td>\n",
       "      <td>0.0</td>\n",
       "    </tr>\n",
       "    <tr>\n",
       "      <th>4</th>\n",
       "      <td>2019-11-15 00:00:00-05:00</td>\n",
       "      <td>138.029999</td>\n",
       "      <td>138.419998</td>\n",
       "      <td>137.970001</td>\n",
       "      <td>138.210007</td>\n",
       "      <td>10106700</td>\n",
       "      <td>0.0</td>\n",
       "      <td>0.0</td>\n",
       "      <td>0.0</td>\n",
       "    </tr>\n",
       "  </tbody>\n",
       "</table>\n",
       "</div>"
      ],
      "text/plain": [
       "                        Date        Open        High         Low       Close  \\\n",
       "0  2019-11-11 00:00:00-05:00  137.610001  137.789993  136.440002  137.059998   \n",
       "1  2019-11-12 00:00:00-05:00  137.029999  137.589996  136.190002  137.429993   \n",
       "2  2019-11-13 00:00:00-05:00  137.800003  138.220001  137.639999  137.979996   \n",
       "3  2019-11-14 00:00:00-05:00  138.389999  138.940002  137.869995  138.559998   \n",
       "4  2019-11-15 00:00:00-05:00  138.029999  138.419998  137.970001  138.210007   \n",
       "\n",
       "     Volume  Dividends  Stock Splits  Capital Gains  \n",
       "0   7037300        0.0           0.0            0.0  \n",
       "1   6448600        0.0           0.0            0.0  \n",
       "2   8776000        0.0           0.0            0.0  \n",
       "3   5220500        0.0           0.0            0.0  \n",
       "4  10106700        0.0           0.0            0.0  "
      ]
     },
     "execution_count": 6,
     "metadata": {},
     "output_type": "execute_result"
    }
   ],
   "source": [
    "df=pd.read_csv(\"../data/raw/Gold-Prices.csv\")\n",
    "df.head()"
   ]
  }
 ],
 "metadata": {
  "kernelspec": {
   "display_name": "venv-churning_model",
   "language": "python",
   "name": "python3"
  },
  "language_info": {
   "codemirror_mode": {
    "name": "ipython",
    "version": 3
   },
   "file_extension": ".py",
   "mimetype": "text/x-python",
   "name": "python",
   "nbconvert_exporter": "python",
   "pygments_lexer": "ipython3",
   "version": "3.12.7"
  }
 },
 "nbformat": 4,
 "nbformat_minor": 2
}
