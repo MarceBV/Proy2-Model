{
 "cells": [
  {
   "cell_type": "code",
   "execution_count": 22,
   "metadata": {},
   "outputs": [],
   "source": [
    "# Importación de librerías\n",
    "import pandas as pd\n",
    "import numpy as np\n",
    "import matplotlib.pyplot as plt"
   ]
  },
  {
   "cell_type": "markdown",
   "metadata": {},
   "source": [
    "### 1. Cargamos los datos del set de entrenamiento"
   ]
  },
  {
   "cell_type": "code",
   "execution_count": 24,
   "metadata": {},
   "outputs": [
    {
     "data": {
      "text/html": [
       "<div>\n",
       "<style scoped>\n",
       "    .dataframe tbody tr th:only-of-type {\n",
       "        vertical-align: middle;\n",
       "    }\n",
       "\n",
       "    .dataframe tbody tr th {\n",
       "        vertical-align: top;\n",
       "    }\n",
       "\n",
       "    .dataframe thead th {\n",
       "        text-align: right;\n",
       "    }\n",
       "</style>\n",
       "<table border=\"1\" class=\"dataframe\">\n",
       "  <thead>\n",
       "    <tr style=\"text-align: right;\">\n",
       "      <th></th>\n",
       "      <th>Date</th>\n",
       "      <th>Open</th>\n",
       "      <th>High</th>\n",
       "      <th>Low</th>\n",
       "      <th>Close</th>\n",
       "      <th>Volume</th>\n",
       "      <th>Dividends</th>\n",
       "      <th>Stock Splits</th>\n",
       "      <th>Capital Gains</th>\n",
       "    </tr>\n",
       "  </thead>\n",
       "  <tbody>\n",
       "    <tr>\n",
       "      <th>0</th>\n",
       "      <td>2019-11-11 00:00:00-05:00</td>\n",
       "      <td>137.610001</td>\n",
       "      <td>137.789993</td>\n",
       "      <td>136.440002</td>\n",
       "      <td>137.059998</td>\n",
       "      <td>7037300</td>\n",
       "      <td>0.0</td>\n",
       "      <td>0.0</td>\n",
       "      <td>0.0</td>\n",
       "    </tr>\n",
       "    <tr>\n",
       "      <th>1</th>\n",
       "      <td>2019-11-12 00:00:00-05:00</td>\n",
       "      <td>137.029999</td>\n",
       "      <td>137.589996</td>\n",
       "      <td>136.190002</td>\n",
       "      <td>137.429993</td>\n",
       "      <td>6448600</td>\n",
       "      <td>0.0</td>\n",
       "      <td>0.0</td>\n",
       "      <td>0.0</td>\n",
       "    </tr>\n",
       "    <tr>\n",
       "      <th>2</th>\n",
       "      <td>2019-11-13 00:00:00-05:00</td>\n",
       "      <td>137.800003</td>\n",
       "      <td>138.220001</td>\n",
       "      <td>137.639999</td>\n",
       "      <td>137.979996</td>\n",
       "      <td>8776000</td>\n",
       "      <td>0.0</td>\n",
       "      <td>0.0</td>\n",
       "      <td>0.0</td>\n",
       "    </tr>\n",
       "    <tr>\n",
       "      <th>3</th>\n",
       "      <td>2019-11-14 00:00:00-05:00</td>\n",
       "      <td>138.389999</td>\n",
       "      <td>138.940002</td>\n",
       "      <td>137.869995</td>\n",
       "      <td>138.559998</td>\n",
       "      <td>5220500</td>\n",
       "      <td>0.0</td>\n",
       "      <td>0.0</td>\n",
       "      <td>0.0</td>\n",
       "    </tr>\n",
       "    <tr>\n",
       "      <th>4</th>\n",
       "      <td>2019-11-15 00:00:00-05:00</td>\n",
       "      <td>138.029999</td>\n",
       "      <td>138.419998</td>\n",
       "      <td>137.970001</td>\n",
       "      <td>138.210007</td>\n",
       "      <td>10106700</td>\n",
       "      <td>0.0</td>\n",
       "      <td>0.0</td>\n",
       "      <td>0.0</td>\n",
       "    </tr>\n",
       "  </tbody>\n",
       "</table>\n",
       "</div>"
      ],
      "text/plain": [
       "                        Date        Open        High         Low       Close  \\\n",
       "0  2019-11-11 00:00:00-05:00  137.610001  137.789993  136.440002  137.059998   \n",
       "1  2019-11-12 00:00:00-05:00  137.029999  137.589996  136.190002  137.429993   \n",
       "2  2019-11-13 00:00:00-05:00  137.800003  138.220001  137.639999  137.979996   \n",
       "3  2019-11-14 00:00:00-05:00  138.389999  138.940002  137.869995  138.559998   \n",
       "4  2019-11-15 00:00:00-05:00  138.029999  138.419998  137.970001  138.210007   \n",
       "\n",
       "     Volume  Dividends  Stock Splits  Capital Gains  \n",
       "0   7037300        0.0           0.0            0.0  \n",
       "1   6448600        0.0           0.0            0.0  \n",
       "2   8776000        0.0           0.0            0.0  \n",
       "3   5220500        0.0           0.0            0.0  \n",
       "4  10106700        0.0           0.0            0.0  "
      ]
     },
     "execution_count": 24,
     "metadata": {},
     "output_type": "execute_result"
    }
   ],
   "source": [
    "dataset=pd.read_csv(\"../data/raw/Gold-Prices.csv\")\n",
    "dataset.head()"
   ]
  },
  {
   "cell_type": "code",
   "execution_count": 25,
   "metadata": {},
   "outputs": [
    {
     "data": {
      "text/plain": [
       "Index(['Date', 'Open', 'High', 'Low', 'Close', 'Volume', 'Dividends',\n",
       "       'Stock Splits', 'Capital Gains'],\n",
       "      dtype='object')"
      ]
     },
     "execution_count": 25,
     "metadata": {},
     "output_type": "execute_result"
    }
   ],
   "source": [
    "dataset.columns # Visualización de columnas"
   ]
  },
  {
   "cell_type": "code",
   "execution_count": 26,
   "metadata": {},
   "outputs": [
    {
     "data": {
      "text/html": [
       "<div>\n",
       "<style scoped>\n",
       "    .dataframe tbody tr th:only-of-type {\n",
       "        vertical-align: middle;\n",
       "    }\n",
       "\n",
       "    .dataframe tbody tr th {\n",
       "        vertical-align: top;\n",
       "    }\n",
       "\n",
       "    .dataframe thead th {\n",
       "        text-align: right;\n",
       "    }\n",
       "</style>\n",
       "<table border=\"1\" class=\"dataframe\">\n",
       "  <thead>\n",
       "    <tr style=\"text-align: right;\">\n",
       "      <th></th>\n",
       "      <th>Date</th>\n",
       "      <th>Open</th>\n",
       "      <th>High</th>\n",
       "      <th>Low</th>\n",
       "      <th>Close</th>\n",
       "      <th>Volume</th>\n",
       "    </tr>\n",
       "  </thead>\n",
       "  <tbody>\n",
       "    <tr>\n",
       "      <th>0</th>\n",
       "      <td>2019-11-11 00:00:00-05:00</td>\n",
       "      <td>137.610001</td>\n",
       "      <td>137.789993</td>\n",
       "      <td>136.440002</td>\n",
       "      <td>137.059998</td>\n",
       "      <td>7037300</td>\n",
       "    </tr>\n",
       "    <tr>\n",
       "      <th>1</th>\n",
       "      <td>2019-11-12 00:00:00-05:00</td>\n",
       "      <td>137.029999</td>\n",
       "      <td>137.589996</td>\n",
       "      <td>136.190002</td>\n",
       "      <td>137.429993</td>\n",
       "      <td>6448600</td>\n",
       "    </tr>\n",
       "    <tr>\n",
       "      <th>2</th>\n",
       "      <td>2019-11-13 00:00:00-05:00</td>\n",
       "      <td>137.800003</td>\n",
       "      <td>138.220001</td>\n",
       "      <td>137.639999</td>\n",
       "      <td>137.979996</td>\n",
       "      <td>8776000</td>\n",
       "    </tr>\n",
       "    <tr>\n",
       "      <th>3</th>\n",
       "      <td>2019-11-14 00:00:00-05:00</td>\n",
       "      <td>138.389999</td>\n",
       "      <td>138.940002</td>\n",
       "      <td>137.869995</td>\n",
       "      <td>138.559998</td>\n",
       "      <td>5220500</td>\n",
       "    </tr>\n",
       "    <tr>\n",
       "      <th>4</th>\n",
       "      <td>2019-11-15 00:00:00-05:00</td>\n",
       "      <td>138.029999</td>\n",
       "      <td>138.419998</td>\n",
       "      <td>137.970001</td>\n",
       "      <td>138.210007</td>\n",
       "      <td>10106700</td>\n",
       "    </tr>\n",
       "  </tbody>\n",
       "</table>\n",
       "</div>"
      ],
      "text/plain": [
       "                        Date        Open        High         Low       Close  \\\n",
       "0  2019-11-11 00:00:00-05:00  137.610001  137.789993  136.440002  137.059998   \n",
       "1  2019-11-12 00:00:00-05:00  137.029999  137.589996  136.190002  137.429993   \n",
       "2  2019-11-13 00:00:00-05:00  137.800003  138.220001  137.639999  137.979996   \n",
       "3  2019-11-14 00:00:00-05:00  138.389999  138.940002  137.869995  138.559998   \n",
       "4  2019-11-15 00:00:00-05:00  138.029999  138.419998  137.970001  138.210007   \n",
       "\n",
       "     Volume  \n",
       "0   7037300  \n",
       "1   6448600  \n",
       "2   8776000  \n",
       "3   5220500  \n",
       "4  10106700  "
      ]
     },
     "execution_count": 26,
     "metadata": {},
     "output_type": "execute_result"
    }
   ],
   "source": [
    "dataset.drop(['Dividends','Stock Splits','Capital Gains'],axis=1, inplace=True)\n",
    "dataset.head()"
   ]
  },
  {
   "cell_type": "markdown",
   "metadata": {},
   "source": [
    "### 2. Porcentaje de nulos### 2. Porcentaje de nulos"
   ]
  },
  {
   "cell_type": "code",
   "execution_count": 27,
   "metadata": {},
   "outputs": [
    {
     "data": {
      "text/plain": [
       "Date      0.0\n",
       "Open      0.0\n",
       "High      0.0\n",
       "Low       0.0\n",
       "Close     0.0\n",
       "Volume    0.0\n",
       "dtype: float64"
      ]
     },
     "execution_count": 27,
     "metadata": {},
     "output_type": "execute_result"
    }
   ],
   "source": [
    "dataset.isnull().mean()"
   ]
  },
  {
   "cell_type": "markdown",
   "metadata": {},
   "source": [
    "### No existen datos faltantes o nulos"
   ]
  },
  {
   "cell_type": "markdown",
   "metadata": {},
   "source": [
    "### Imputamos la media en la columna amt"
   ]
  },
  {
   "cell_type": "code",
   "execution_count": 28,
   "metadata": {},
   "outputs": [
    {
     "data": {
      "text/plain": [
       "np.float64(8605847.217806041)"
      ]
     },
     "execution_count": 28,
     "metadata": {},
     "output_type": "execute_result"
    }
   ],
   "source": [
    "media_age= dataset['Volume'].mean()\n",
    "media_age"
   ]
  },
  {
   "cell_type": "code",
   "execution_count": 29,
   "metadata": {},
   "outputs": [],
   "source": [
    "media_age= dataset['Volume'].mean()\n",
    "dataset['Volume']=dataset['Volume'].fillna(media_age).astype(int)"
   ]
  },
  {
   "cell_type": "markdown",
   "metadata": {},
   "source": [
    "### Imputamos la media en la columna Volume"
   ]
  },
  {
   "cell_type": "code",
   "execution_count": 30,
   "metadata": {},
   "outputs": [
    {
     "data": {
      "text/plain": [
       "Volume\n",
       "6840500    2\n",
       "8369000    2\n",
       "8451900    2\n",
       "5802000    2\n",
       "5389300    2\n",
       "          ..\n",
       "5789500    1\n",
       "3922900    1\n",
       "5640800    1\n",
       "5431900    1\n",
       "5176200    1\n",
       "Name: count, Length: 1251, dtype: int64"
      ]
     },
     "execution_count": 30,
     "metadata": {},
     "output_type": "execute_result"
    }
   ],
   "source": [
    "dataset['Volume'].value_counts()"
   ]
  },
  {
   "cell_type": "code",
   "execution_count": 31,
   "metadata": {},
   "outputs": [],
   "source": [
    "# Convertir 'Date' a formato datetime en UTC\n",
    "dataset['Date'] = pd.to_datetime(dataset['Date'], utc=True)"
   ]
  },
  {
   "cell_type": "code",
   "execution_count": 32,
   "metadata": {},
   "outputs": [],
   "source": [
    "# Convertir 'Date' a formato datetime sin zona horaria\n",
    "dataset['Date'] = pd.to_datetime(dataset['Date']).dt.tz_localize(None)"
   ]
  },
  {
   "cell_type": "code",
   "execution_count": 33,
   "metadata": {},
   "outputs": [],
   "source": [
    "# Extraer año, mes, día y hora en columnas separadas\n",
    "dataset['year'] = dataset['Date'].dt.year\n",
    "dataset['month'] = dataset['Date'].dt.month\n",
    "dataset['day'] = dataset['Date'].dt.day\n",
    "dataset['hour'] = dataset['Date'].dt.hour"
   ]
  },
  {
   "cell_type": "code",
   "execution_count": 34,
   "metadata": {},
   "outputs": [
    {
     "name": "stdout",
     "output_type": "stream",
     "text": [
      "0   2019-11-11 05:00:00\n",
      "1   2019-11-12 05:00:00\n",
      "2   2019-11-13 05:00:00\n",
      "3   2019-11-14 05:00:00\n",
      "4   2019-11-15 05:00:00\n",
      "Name: Date, dtype: datetime64[ns]\n"
     ]
    }
   ],
   "source": [
    "print(dataset['Date'].head())"
   ]
  },
  {
   "cell_type": "code",
   "execution_count": 35,
   "metadata": {},
   "outputs": [
    {
     "data": {
      "text/html": [
       "<div>\n",
       "<style scoped>\n",
       "    .dataframe tbody tr th:only-of-type {\n",
       "        vertical-align: middle;\n",
       "    }\n",
       "\n",
       "    .dataframe tbody tr th {\n",
       "        vertical-align: top;\n",
       "    }\n",
       "\n",
       "    .dataframe thead th {\n",
       "        text-align: right;\n",
       "    }\n",
       "</style>\n",
       "<table border=\"1\" class=\"dataframe\">\n",
       "  <thead>\n",
       "    <tr style=\"text-align: right;\">\n",
       "      <th></th>\n",
       "      <th>Date</th>\n",
       "      <th>Open</th>\n",
       "      <th>High</th>\n",
       "      <th>Low</th>\n",
       "      <th>Close</th>\n",
       "      <th>Volume</th>\n",
       "      <th>year</th>\n",
       "      <th>month</th>\n",
       "      <th>day</th>\n",
       "      <th>hour</th>\n",
       "    </tr>\n",
       "  </thead>\n",
       "  <tbody>\n",
       "    <tr>\n",
       "      <th>0</th>\n",
       "      <td>2019-11-11 05:00:00</td>\n",
       "      <td>137.610001</td>\n",
       "      <td>137.789993</td>\n",
       "      <td>136.440002</td>\n",
       "      <td>137.059998</td>\n",
       "      <td>7037300</td>\n",
       "      <td>2019</td>\n",
       "      <td>11</td>\n",
       "      <td>11</td>\n",
       "      <td>5</td>\n",
       "    </tr>\n",
       "    <tr>\n",
       "      <th>1</th>\n",
       "      <td>2019-11-12 05:00:00</td>\n",
       "      <td>137.029999</td>\n",
       "      <td>137.589996</td>\n",
       "      <td>136.190002</td>\n",
       "      <td>137.429993</td>\n",
       "      <td>6448600</td>\n",
       "      <td>2019</td>\n",
       "      <td>11</td>\n",
       "      <td>12</td>\n",
       "      <td>5</td>\n",
       "    </tr>\n",
       "    <tr>\n",
       "      <th>2</th>\n",
       "      <td>2019-11-13 05:00:00</td>\n",
       "      <td>137.800003</td>\n",
       "      <td>138.220001</td>\n",
       "      <td>137.639999</td>\n",
       "      <td>137.979996</td>\n",
       "      <td>8776000</td>\n",
       "      <td>2019</td>\n",
       "      <td>11</td>\n",
       "      <td>13</td>\n",
       "      <td>5</td>\n",
       "    </tr>\n",
       "    <tr>\n",
       "      <th>3</th>\n",
       "      <td>2019-11-14 05:00:00</td>\n",
       "      <td>138.389999</td>\n",
       "      <td>138.940002</td>\n",
       "      <td>137.869995</td>\n",
       "      <td>138.559998</td>\n",
       "      <td>5220500</td>\n",
       "      <td>2019</td>\n",
       "      <td>11</td>\n",
       "      <td>14</td>\n",
       "      <td>5</td>\n",
       "    </tr>\n",
       "    <tr>\n",
       "      <th>4</th>\n",
       "      <td>2019-11-15 05:00:00</td>\n",
       "      <td>138.029999</td>\n",
       "      <td>138.419998</td>\n",
       "      <td>137.970001</td>\n",
       "      <td>138.210007</td>\n",
       "      <td>10106700</td>\n",
       "      <td>2019</td>\n",
       "      <td>11</td>\n",
       "      <td>15</td>\n",
       "      <td>5</td>\n",
       "    </tr>\n",
       "  </tbody>\n",
       "</table>\n",
       "</div>"
      ],
      "text/plain": [
       "                 Date        Open        High         Low       Close  \\\n",
       "0 2019-11-11 05:00:00  137.610001  137.789993  136.440002  137.059998   \n",
       "1 2019-11-12 05:00:00  137.029999  137.589996  136.190002  137.429993   \n",
       "2 2019-11-13 05:00:00  137.800003  138.220001  137.639999  137.979996   \n",
       "3 2019-11-14 05:00:00  138.389999  138.940002  137.869995  138.559998   \n",
       "4 2019-11-15 05:00:00  138.029999  138.419998  137.970001  138.210007   \n",
       "\n",
       "     Volume  year  month  day  hour  \n",
       "0   7037300  2019     11   11     5  \n",
       "1   6448600  2019     11   12     5  \n",
       "2   8776000  2019     11   13     5  \n",
       "3   5220500  2019     11   14     5  \n",
       "4  10106700  2019     11   15     5  "
      ]
     },
     "execution_count": 35,
     "metadata": {},
     "output_type": "execute_result"
    }
   ],
   "source": [
    "dataset.head()"
   ]
  },
  {
   "cell_type": "code",
   "execution_count": 36,
   "metadata": {},
   "outputs": [
    {
     "data": {
      "text/plain": [
       "Date\n",
       "2024-11-08 05:00:00    1\n",
       "2019-11-11 05:00:00    1\n",
       "2019-11-12 05:00:00    1\n",
       "2019-11-13 05:00:00    1\n",
       "2019-11-14 05:00:00    1\n",
       "                      ..\n",
       "2019-12-02 05:00:00    1\n",
       "2019-11-29 05:00:00    1\n",
       "2019-11-27 05:00:00    1\n",
       "2019-11-26 05:00:00    1\n",
       "2019-11-25 05:00:00    1\n",
       "Name: count, Length: 1258, dtype: int64"
      ]
     },
     "execution_count": 36,
     "metadata": {},
     "output_type": "execute_result"
    }
   ],
   "source": [
    "dataset['Date'].value_counts()"
   ]
  },
  {
   "cell_type": "code",
   "execution_count": 37,
   "metadata": {},
   "outputs": [
    {
     "data": {
      "text/plain": [
       "Open\n",
       "175.830002    5\n",
       "178.369995    4\n",
       "165.889999    3\n",
       "166.919998    3\n",
       "167.880005    3\n",
       "             ..\n",
       "244.500000    1\n",
       "245.160004    1\n",
       "244.990005    1\n",
       "247.619995    1\n",
       "247.750000    1\n",
       "Name: count, Length: 1116, dtype: int64"
      ]
     },
     "execution_count": 37,
     "metadata": {},
     "output_type": "execute_result"
    }
   ],
   "source": [
    "dataset['Open'].value_counts()"
   ]
  },
  {
   "cell_type": "code",
   "execution_count": 38,
   "metadata": {},
   "outputs": [
    {
     "data": {
      "text/plain": [
       "High\n",
       "166.809998    3\n",
       "167.529999    3\n",
       "161.619995    3\n",
       "163.429993    3\n",
       "169.160004    3\n",
       "             ..\n",
       "245.860001    1\n",
       "245.919998    1\n",
       "243.020004    1\n",
       "241.839996    1\n",
       "139.570007    1\n",
       "Name: count, Length: 1111, dtype: int64"
      ]
     },
     "execution_count": 38,
     "metadata": {},
     "output_type": "execute_result"
    }
   ],
   "source": [
    "dataset['High'].value_counts()"
   ]
  },
  {
   "cell_type": "code",
   "execution_count": 39,
   "metadata": {},
   "outputs": [
    {
     "data": {
      "text/plain": [
       "Low\n",
       "168.520004    4\n",
       "168.300003    3\n",
       "161.360001    3\n",
       "166.860001    3\n",
       "167.149994    3\n",
       "             ..\n",
       "244.470001    1\n",
       "244.259995    1\n",
       "244.529999    1\n",
       "246.360001    1\n",
       "247.779999    1\n",
       "Name: count, Length: 1118, dtype: int64"
      ]
     },
     "execution_count": 39,
     "metadata": {},
     "output_type": "execute_result"
    }
   ],
   "source": [
    "dataset['Low'].value_counts()"
   ]
  },
  {
   "cell_type": "code",
   "execution_count": 40,
   "metadata": {},
   "outputs": [
    {
     "data": {
      "text/plain": [
       "Close\n",
       "178.639999    4\n",
       "163.919998    3\n",
       "172.610001    3\n",
       "176.350006    3\n",
       "172.580002    3\n",
       "             ..\n",
       "245.470001    1\n",
       "245.070007    1\n",
       "245.919998    1\n",
       "247.149994    1\n",
       "247.960007    1\n",
       "Name: count, Length: 1124, dtype: int64"
      ]
     },
     "execution_count": 40,
     "metadata": {},
     "output_type": "execute_result"
    }
   ],
   "source": [
    "dataset['Close'].value_counts()"
   ]
  },
  {
   "cell_type": "code",
   "execution_count": 41,
   "metadata": {},
   "outputs": [
    {
     "data": {
      "text/plain": [
       "Volume\n",
       "6840500    2\n",
       "8369000    2\n",
       "8451900    2\n",
       "5802000    2\n",
       "5389300    2\n",
       "          ..\n",
       "5789500    1\n",
       "3922900    1\n",
       "5640800    1\n",
       "5431900    1\n",
       "5176200    1\n",
       "Name: count, Length: 1251, dtype: int64"
      ]
     },
     "execution_count": 41,
     "metadata": {},
     "output_type": "execute_result"
    }
   ],
   "source": [
    "dataset['Volume'].value_counts()"
   ]
  },
  {
   "cell_type": "code",
   "execution_count": 42,
   "metadata": {},
   "outputs": [
    {
     "data": {
      "text/plain": [
       "year\n",
       "2020    253\n",
       "2021    252\n",
       "2022    251\n",
       "2023    250\n",
       "2024    217\n",
       "2019     35\n",
       "Name: count, dtype: int64"
      ]
     },
     "execution_count": 42,
     "metadata": {},
     "output_type": "execute_result"
    }
   ],
   "source": [
    "dataset['year'].value_counts()"
   ]
  },
  {
   "cell_type": "code",
   "execution_count": 43,
   "metadata": {},
   "outputs": [
    {
     "data": {
      "text/plain": [
       "month\n",
       "8     111\n",
       "3     111\n",
       "10    109\n",
       "12    106\n",
       "7     105\n",
       "6     105\n",
       "5     105\n",
       "11    103\n",
       "4     103\n",
       "9     103\n",
       "1     101\n",
       "2      96\n",
       "Name: count, dtype: int64"
      ]
     },
     "execution_count": 43,
     "metadata": {},
     "output_type": "execute_result"
    }
   ],
   "source": [
    "dataset['month'].value_counts()"
   ]
  },
  {
   "cell_type": "code",
   "execution_count": 44,
   "metadata": {},
   "outputs": [
    {
     "data": {
      "text/plain": [
       "day\n",
       "22    44\n",
       "8     44\n",
       "14    43\n",
       "9     43\n",
       "13    43\n",
       "12    42\n",
       "27    42\n",
       "6     42\n",
       "23    42\n",
       "28    42\n",
       "16    42\n",
       "3     42\n",
       "10    42\n",
       "21    42\n",
       "11    42\n",
       "7     41\n",
       "1     41\n",
       "17    41\n",
       "24    41\n",
       "18    41\n",
       "15    41\n",
       "20    40\n",
       "2     40\n",
       "5     40\n",
       "26    40\n",
       "19    39\n",
       "29    39\n",
       "30    38\n",
       "4     38\n",
       "25    37\n",
       "31    24\n",
       "Name: count, dtype: int64"
      ]
     },
     "execution_count": 44,
     "metadata": {},
     "output_type": "execute_result"
    }
   ],
   "source": [
    "dataset['day'].value_counts()"
   ]
  },
  {
   "cell_type": "code",
   "execution_count": 45,
   "metadata": {},
   "outputs": [
    {
     "data": {
      "text/plain": [
       "hour\n",
       "4    827\n",
       "5    431\n",
       "Name: count, dtype: int64"
      ]
     },
     "execution_count": 45,
     "metadata": {},
     "output_type": "execute_result"
    }
   ],
   "source": [
    "dataset['hour'].value_counts()"
   ]
  },
  {
   "cell_type": "code",
   "execution_count": 46,
   "metadata": {},
   "outputs": [
    {
     "data": {
      "text/html": [
       "<div>\n",
       "<style scoped>\n",
       "    .dataframe tbody tr th:only-of-type {\n",
       "        vertical-align: middle;\n",
       "    }\n",
       "\n",
       "    .dataframe tbody tr th {\n",
       "        vertical-align: top;\n",
       "    }\n",
       "\n",
       "    .dataframe thead th {\n",
       "        text-align: right;\n",
       "    }\n",
       "</style>\n",
       "<table border=\"1\" class=\"dataframe\">\n",
       "  <thead>\n",
       "    <tr style=\"text-align: right;\">\n",
       "      <th></th>\n",
       "      <th>Date</th>\n",
       "      <th>Open</th>\n",
       "      <th>High</th>\n",
       "      <th>Low</th>\n",
       "      <th>Close</th>\n",
       "      <th>Volume</th>\n",
       "      <th>year</th>\n",
       "      <th>month</th>\n",
       "      <th>day</th>\n",
       "      <th>hour</th>\n",
       "    </tr>\n",
       "  </thead>\n",
       "  <tbody>\n",
       "    <tr>\n",
       "      <th>0</th>\n",
       "      <td>2019-11-11 05:00:00</td>\n",
       "      <td>137.610001</td>\n",
       "      <td>137.789993</td>\n",
       "      <td>136.440002</td>\n",
       "      <td>137.059998</td>\n",
       "      <td>7037300</td>\n",
       "      <td>2019</td>\n",
       "      <td>11</td>\n",
       "      <td>11</td>\n",
       "      <td>5</td>\n",
       "    </tr>\n",
       "    <tr>\n",
       "      <th>1</th>\n",
       "      <td>2019-11-12 05:00:00</td>\n",
       "      <td>137.029999</td>\n",
       "      <td>137.589996</td>\n",
       "      <td>136.190002</td>\n",
       "      <td>137.429993</td>\n",
       "      <td>6448600</td>\n",
       "      <td>2019</td>\n",
       "      <td>11</td>\n",
       "      <td>12</td>\n",
       "      <td>5</td>\n",
       "    </tr>\n",
       "    <tr>\n",
       "      <th>2</th>\n",
       "      <td>2019-11-13 05:00:00</td>\n",
       "      <td>137.800003</td>\n",
       "      <td>138.220001</td>\n",
       "      <td>137.639999</td>\n",
       "      <td>137.979996</td>\n",
       "      <td>8776000</td>\n",
       "      <td>2019</td>\n",
       "      <td>11</td>\n",
       "      <td>13</td>\n",
       "      <td>5</td>\n",
       "    </tr>\n",
       "    <tr>\n",
       "      <th>3</th>\n",
       "      <td>2019-11-14 05:00:00</td>\n",
       "      <td>138.389999</td>\n",
       "      <td>138.940002</td>\n",
       "      <td>137.869995</td>\n",
       "      <td>138.559998</td>\n",
       "      <td>5220500</td>\n",
       "      <td>2019</td>\n",
       "      <td>11</td>\n",
       "      <td>14</td>\n",
       "      <td>5</td>\n",
       "    </tr>\n",
       "    <tr>\n",
       "      <th>4</th>\n",
       "      <td>2019-11-15 05:00:00</td>\n",
       "      <td>138.029999</td>\n",
       "      <td>138.419998</td>\n",
       "      <td>137.970001</td>\n",
       "      <td>138.210007</td>\n",
       "      <td>10106700</td>\n",
       "      <td>2019</td>\n",
       "      <td>11</td>\n",
       "      <td>15</td>\n",
       "      <td>5</td>\n",
       "    </tr>\n",
       "  </tbody>\n",
       "</table>\n",
       "</div>"
      ],
      "text/plain": [
       "                 Date        Open        High         Low       Close  \\\n",
       "0 2019-11-11 05:00:00  137.610001  137.789993  136.440002  137.059998   \n",
       "1 2019-11-12 05:00:00  137.029999  137.589996  136.190002  137.429993   \n",
       "2 2019-11-13 05:00:00  137.800003  138.220001  137.639999  137.979996   \n",
       "3 2019-11-14 05:00:00  138.389999  138.940002  137.869995  138.559998   \n",
       "4 2019-11-15 05:00:00  138.029999  138.419998  137.970001  138.210007   \n",
       "\n",
       "     Volume  year  month  day  hour  \n",
       "0   7037300  2019     11   11     5  \n",
       "1   6448600  2019     11   12     5  \n",
       "2   8776000  2019     11   13     5  \n",
       "3   5220500  2019     11   14     5  \n",
       "4  10106700  2019     11   15     5  "
      ]
     },
     "execution_count": 46,
     "metadata": {},
     "output_type": "execute_result"
    }
   ],
   "source": [
    "dataset.head()"
   ]
  },
  {
   "cell_type": "markdown",
   "metadata": {},
   "source": [
    "### Eliminados la columna Date"
   ]
  },
  {
   "cell_type": "code",
   "execution_count": 47,
   "metadata": {},
   "outputs": [],
   "source": [
    "dataset.drop(['Date'], axis=1, inplace=True)"
   ]
  },
  {
   "cell_type": "code",
   "execution_count": 48,
   "metadata": {},
   "outputs": [
    {
     "data": {
      "text/html": [
       "<div>\n",
       "<style scoped>\n",
       "    .dataframe tbody tr th:only-of-type {\n",
       "        vertical-align: middle;\n",
       "    }\n",
       "\n",
       "    .dataframe tbody tr th {\n",
       "        vertical-align: top;\n",
       "    }\n",
       "\n",
       "    .dataframe thead th {\n",
       "        text-align: right;\n",
       "    }\n",
       "</style>\n",
       "<table border=\"1\" class=\"dataframe\">\n",
       "  <thead>\n",
       "    <tr style=\"text-align: right;\">\n",
       "      <th></th>\n",
       "      <th>Open</th>\n",
       "      <th>High</th>\n",
       "      <th>Low</th>\n",
       "      <th>Close</th>\n",
       "      <th>Volume</th>\n",
       "      <th>year</th>\n",
       "      <th>month</th>\n",
       "      <th>day</th>\n",
       "      <th>hour</th>\n",
       "    </tr>\n",
       "  </thead>\n",
       "  <tbody>\n",
       "    <tr>\n",
       "      <th>0</th>\n",
       "      <td>137.610001</td>\n",
       "      <td>137.789993</td>\n",
       "      <td>136.440002</td>\n",
       "      <td>137.059998</td>\n",
       "      <td>7037300</td>\n",
       "      <td>2019</td>\n",
       "      <td>11</td>\n",
       "      <td>11</td>\n",
       "      <td>5</td>\n",
       "    </tr>\n",
       "    <tr>\n",
       "      <th>1</th>\n",
       "      <td>137.029999</td>\n",
       "      <td>137.589996</td>\n",
       "      <td>136.190002</td>\n",
       "      <td>137.429993</td>\n",
       "      <td>6448600</td>\n",
       "      <td>2019</td>\n",
       "      <td>11</td>\n",
       "      <td>12</td>\n",
       "      <td>5</td>\n",
       "    </tr>\n",
       "    <tr>\n",
       "      <th>2</th>\n",
       "      <td>137.800003</td>\n",
       "      <td>138.220001</td>\n",
       "      <td>137.639999</td>\n",
       "      <td>137.979996</td>\n",
       "      <td>8776000</td>\n",
       "      <td>2019</td>\n",
       "      <td>11</td>\n",
       "      <td>13</td>\n",
       "      <td>5</td>\n",
       "    </tr>\n",
       "    <tr>\n",
       "      <th>3</th>\n",
       "      <td>138.389999</td>\n",
       "      <td>138.940002</td>\n",
       "      <td>137.869995</td>\n",
       "      <td>138.559998</td>\n",
       "      <td>5220500</td>\n",
       "      <td>2019</td>\n",
       "      <td>11</td>\n",
       "      <td>14</td>\n",
       "      <td>5</td>\n",
       "    </tr>\n",
       "    <tr>\n",
       "      <th>4</th>\n",
       "      <td>138.029999</td>\n",
       "      <td>138.419998</td>\n",
       "      <td>137.970001</td>\n",
       "      <td>138.210007</td>\n",
       "      <td>10106700</td>\n",
       "      <td>2019</td>\n",
       "      <td>11</td>\n",
       "      <td>15</td>\n",
       "      <td>5</td>\n",
       "    </tr>\n",
       "  </tbody>\n",
       "</table>\n",
       "</div>"
      ],
      "text/plain": [
       "         Open        High         Low       Close    Volume  year  month  day  \\\n",
       "0  137.610001  137.789993  136.440002  137.059998   7037300  2019     11   11   \n",
       "1  137.029999  137.589996  136.190002  137.429993   6448600  2019     11   12   \n",
       "2  137.800003  138.220001  137.639999  137.979996   8776000  2019     11   13   \n",
       "3  138.389999  138.940002  137.869995  138.559998   5220500  2019     11   14   \n",
       "4  138.029999  138.419998  137.970001  138.210007  10106700  2019     11   15   \n",
       "\n",
       "   hour  \n",
       "0     5  \n",
       "1     5  \n",
       "2     5  \n",
       "3     5  \n",
       "4     5  "
      ]
     },
     "execution_count": 48,
     "metadata": {},
     "output_type": "execute_result"
    }
   ],
   "source": [
    "dataset.head()"
   ]
  },
  {
   "cell_type": "markdown",
   "metadata": {},
   "source": [
    "### 4. Estandarización de Variables"
   ]
  },
  {
   "cell_type": "code",
   "execution_count": 49,
   "metadata": {},
   "outputs": [],
   "source": [
    "from sklearn.preprocessing import MinMaxScaler"
   ]
  },
  {
   "cell_type": "code",
   "execution_count": 50,
   "metadata": {},
   "outputs": [],
   "source": [
    "mm_scaler = MinMaxScaler()\n",
    "\n",
    "X= dataset.drop('Volume', axis=1)\n",
    "scaled_feature= mm_scaler.fit_transform(X)\n",
    "scaled_df=pd.DataFrame(scaled_feature,columns=X.columns)"
   ]
  },
  {
   "cell_type": "code",
   "execution_count": 51,
   "metadata": {},
   "outputs": [
    {
     "data": {
      "text/html": [
       "<div>\n",
       "<style scoped>\n",
       "    .dataframe tbody tr th:only-of-type {\n",
       "        vertical-align: middle;\n",
       "    }\n",
       "\n",
       "    .dataframe tbody tr th {\n",
       "        vertical-align: top;\n",
       "    }\n",
       "\n",
       "    .dataframe thead th {\n",
       "        text-align: right;\n",
       "    }\n",
       "</style>\n",
       "<table border=\"1\" class=\"dataframe\">\n",
       "  <thead>\n",
       "    <tr style=\"text-align: right;\">\n",
       "      <th></th>\n",
       "      <th>Open</th>\n",
       "      <th>High</th>\n",
       "      <th>Low</th>\n",
       "      <th>Close</th>\n",
       "      <th>year</th>\n",
       "      <th>month</th>\n",
       "      <th>day</th>\n",
       "      <th>hour</th>\n",
       "      <th>Volume</th>\n",
       "    </tr>\n",
       "  </thead>\n",
       "  <tbody>\n",
       "    <tr>\n",
       "      <th>0</th>\n",
       "      <td>0.005260</td>\n",
       "      <td>0.004813</td>\n",
       "      <td>0.002671</td>\n",
       "      <td>0.000415</td>\n",
       "      <td>0.0</td>\n",
       "      <td>0.909091</td>\n",
       "      <td>0.333333</td>\n",
       "      <td>1.0</td>\n",
       "      <td>7037300</td>\n",
       "    </tr>\n",
       "    <tr>\n",
       "      <th>1</th>\n",
       "      <td>0.000417</td>\n",
       "      <td>0.003153</td>\n",
       "      <td>0.000584</td>\n",
       "      <td>0.003486</td>\n",
       "      <td>0.0</td>\n",
       "      <td>0.909091</td>\n",
       "      <td>0.366667</td>\n",
       "      <td>1.0</td>\n",
       "      <td>6448600</td>\n",
       "    </tr>\n",
       "    <tr>\n",
       "      <th>2</th>\n",
       "      <td>0.006846</td>\n",
       "      <td>0.008382</td>\n",
       "      <td>0.012689</td>\n",
       "      <td>0.008050</td>\n",
       "      <td>0.0</td>\n",
       "      <td>0.909091</td>\n",
       "      <td>0.400000</td>\n",
       "      <td>1.0</td>\n",
       "      <td>8776000</td>\n",
       "    </tr>\n",
       "    <tr>\n",
       "      <th>3</th>\n",
       "      <td>0.011772</td>\n",
       "      <td>0.014357</td>\n",
       "      <td>0.014609</td>\n",
       "      <td>0.012864</td>\n",
       "      <td>0.0</td>\n",
       "      <td>0.909091</td>\n",
       "      <td>0.433333</td>\n",
       "      <td>1.0</td>\n",
       "      <td>5220500</td>\n",
       "    </tr>\n",
       "    <tr>\n",
       "      <th>4</th>\n",
       "      <td>0.008766</td>\n",
       "      <td>0.010041</td>\n",
       "      <td>0.015444</td>\n",
       "      <td>0.009959</td>\n",
       "      <td>0.0</td>\n",
       "      <td>0.909091</td>\n",
       "      <td>0.466667</td>\n",
       "      <td>1.0</td>\n",
       "      <td>10106700</td>\n",
       "    </tr>\n",
       "  </tbody>\n",
       "</table>\n",
       "</div>"
      ],
      "text/plain": [
       "       Open      High       Low     Close  year     month       day  hour  \\\n",
       "0  0.005260  0.004813  0.002671  0.000415   0.0  0.909091  0.333333   1.0   \n",
       "1  0.000417  0.003153  0.000584  0.003486   0.0  0.909091  0.366667   1.0   \n",
       "2  0.006846  0.008382  0.012689  0.008050   0.0  0.909091  0.400000   1.0   \n",
       "3  0.011772  0.014357  0.014609  0.012864   0.0  0.909091  0.433333   1.0   \n",
       "4  0.008766  0.010041  0.015444  0.009959   0.0  0.909091  0.466667   1.0   \n",
       "\n",
       "     Volume  \n",
       "0   7037300  \n",
       "1   6448600  \n",
       "2   8776000  \n",
       "3   5220500  \n",
       "4  10106700  "
      ]
     },
     "execution_count": 51,
     "metadata": {},
     "output_type": "execute_result"
    }
   ],
   "source": [
    "scaled_df['Volume']=dataset['Volume']\n",
    "scaled_df.head()"
   ]
  },
  {
   "cell_type": "code",
   "execution_count": 52,
   "metadata": {},
   "outputs": [],
   "source": [
    "scaled_df.to_csv('../data/processed/features_for_model.csv')"
   ]
  }
 ],
 "metadata": {
  "kernelspec": {
   "display_name": "venv-churning_model",
   "language": "python",
   "name": "python3"
  },
  "language_info": {
   "codemirror_mode": {
    "name": "ipython",
    "version": 3
   },
   "file_extension": ".py",
   "mimetype": "text/x-python",
   "name": "python",
   "nbconvert_exporter": "python",
   "pygments_lexer": "ipython3",
   "version": "3.12.7"
  }
 },
 "nbformat": 4,
 "nbformat_minor": 2
}
